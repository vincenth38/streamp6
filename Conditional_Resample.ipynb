{
  "nbformat": 4,
  "nbformat_minor": 0,
  "metadata": {
    "colab": {
      "name": "Conditional Resample.ipynb",
      "provenance": [],
      "collapsed_sections": [],
      "authorship_tag": "ABX9TyPW0Q0YtzfXlROEef6vShxe",
      "include_colab_link": true
    },
    "kernelspec": {
      "name": "python3",
      "display_name": "Python 3"
    },
    "language_info": {
      "name": "python"
    }
  },
  "cells": [
    {
      "cell_type": "markdown",
      "metadata": {
        "id": "view-in-github",
        "colab_type": "text"
      },
      "source": [
        "<a href=\"https://colab.research.google.com/github/vincenth38/streamp6/blob/master/Conditional_Resample.ipynb\" target=\"_parent\"><img src=\"https://colab.research.google.com/assets/colab-badge.svg\" alt=\"Open In Colab\"/></a>"
      ]
    },
    {
      "cell_type": "code",
      "metadata": {
        "id": "08pOXz5cn4-M"
      },
      "source": [
        "# https://www.py4u.net/discuss/251412\n",
        "\n",
        "import pandas as pd\n",
        "\n",
        "df = pd.DataFrame({'start': ['1/1/2018'], \n",
        "               'end': ['3/15/2019'], \n",
        "               'inv date': ['2/1/2018'],\n",
        "               'spend': [400]})"
      ],
      "execution_count": 4,
      "outputs": []
    },
    {
      "cell_type": "code",
      "metadata": {
        "colab": {
          "base_uri": "https://localhost:8080/"
        },
        "id": "YE5ThHZ-n-17",
        "outputId": "7cef5750-3993-4cb2-ab5d-77c1db8c7c61"
      },
      "source": [
        "prd = pd.period_range(df.loc[0, 'start'], df.loc[0, 'end'], freq='D')\n",
        "prd = pd.Series(1, prd) # empty series to get the number of days in the monthly period\n",
        "prd = prd.resample('M').size() * (df.loc[0, 'spend'] / prd.resample('M').size().sum())\n",
        "prd"
      ],
      "execution_count": 6,
      "outputs": [
        {
          "output_type": "execute_result",
          "data": {
            "text/plain": [
              "2018-01    28.246014\n",
              "2018-02    25.512528\n",
              "2018-03    28.246014\n",
              "2018-04    27.334852\n",
              "2018-05    28.246014\n",
              "2018-06    27.334852\n",
              "2018-07    28.246014\n",
              "2018-08    28.246014\n",
              "2018-09    27.334852\n",
              "2018-10    28.246014\n",
              "2018-11    27.334852\n",
              "2018-12    28.246014\n",
              "2019-01    28.246014\n",
              "2019-02    25.512528\n",
              "2019-03    13.667426\n",
              "Freq: M, dtype: float64"
            ]
          },
          "metadata": {},
          "execution_count": 6
        }
      ]
    },
    {
      "cell_type": "code",
      "metadata": {
        "colab": {
          "base_uri": "https://localhost:8080/",
          "height": 206
        },
        "id": "ZPbNTFDIoV6K",
        "outputId": "d2d7caa2-9684-480c-e223-6fba8ccc4a23"
      },
      "source": [
        "prd = pd.period_range(df.loc[0, 'start'], df.loc[0, 'end'], freq='D')\n",
        "prd = pd.Series(1, prd) # empty series to get the number of days in the monthly period\n",
        "prd = prd.resample('Q').size() * (df.loc[0, 'spend'] / prd.resample('Q').size().sum())\n",
        "prd = prd.to_frame()\n",
        "prd"
      ],
      "execution_count": 17,
      "outputs": [
        {
          "output_type": "execute_result",
          "data": {
            "text/html": [
              "<div>\n",
              "<style scoped>\n",
              "    .dataframe tbody tr th:only-of-type {\n",
              "        vertical-align: middle;\n",
              "    }\n",
              "\n",
              "    .dataframe tbody tr th {\n",
              "        vertical-align: top;\n",
              "    }\n",
              "\n",
              "    .dataframe thead th {\n",
              "        text-align: right;\n",
              "    }\n",
              "</style>\n",
              "<table border=\"1\" class=\"dataframe\">\n",
              "  <thead>\n",
              "    <tr style=\"text-align: right;\">\n",
              "      <th></th>\n",
              "      <th>0</th>\n",
              "    </tr>\n",
              "  </thead>\n",
              "  <tbody>\n",
              "    <tr>\n",
              "      <th>2018Q1</th>\n",
              "      <td>82.004556</td>\n",
              "    </tr>\n",
              "    <tr>\n",
              "      <th>2018Q2</th>\n",
              "      <td>82.915718</td>\n",
              "    </tr>\n",
              "    <tr>\n",
              "      <th>2018Q3</th>\n",
              "      <td>83.826879</td>\n",
              "    </tr>\n",
              "    <tr>\n",
              "      <th>2018Q4</th>\n",
              "      <td>83.826879</td>\n",
              "    </tr>\n",
              "    <tr>\n",
              "      <th>2019Q1</th>\n",
              "      <td>67.425968</td>\n",
              "    </tr>\n",
              "  </tbody>\n",
              "</table>\n",
              "</div>"
            ],
            "text/plain": [
              "                0\n",
              "2018Q1  82.004556\n",
              "2018Q2  82.915718\n",
              "2018Q3  83.826879\n",
              "2018Q4  83.826879\n",
              "2019Q1  67.425968"
            ]
          },
          "metadata": {},
          "execution_count": 17
        }
      ]
    },
    {
      "cell_type": "code",
      "metadata": {
        "colab": {
          "base_uri": "https://localhost:8080/"
        },
        "id": "PM1nwg1QoxZy",
        "outputId": "c3352935-7b16-4770-9066-6cdde31b0176"
      },
      "source": [
        "prd = pd.period_range(df.loc[0, 'start'], df.loc[0, 'end'], freq='Q')\n",
        "prd = pd.Series(1, prd) # empty series to get the number of days in the monthly period\n",
        "prd = prd.resample('Q').size() * (df.loc[0, 'spend'] / prd.resample('Q').size().sum())\n",
        "prd"
      ],
      "execution_count": 8,
      "outputs": [
        {
          "output_type": "execute_result",
          "data": {
            "text/plain": [
              "2018Q1    80.0\n",
              "2018Q2    80.0\n",
              "2018Q3    80.0\n",
              "2018Q4    80.0\n",
              "2019Q1    80.0\n",
              "Freq: Q-DEC, dtype: float64"
            ]
          },
          "metadata": {},
          "execution_count": 8
        }
      ]
    }
  ]
}